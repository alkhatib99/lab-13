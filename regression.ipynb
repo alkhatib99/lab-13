{
 "cells": [
  {
   "cell_type": "markdown",
   "id": "1a6877ee",
   "metadata": {
    "_cell_guid": "b1076dfc-b9ad-4769-8c92-a6c4dae69d19",
    "_uuid": "8f2839f25d086af736a60e9eeb907d3b93b6e0e5",
    "papermill": {
     "duration": 0.013993,
     "end_time": "2022-04-24T03:44:04.269257",
     "exception": false,
     "start_time": "2022-04-24T03:44:04.255264",
     "status": "completed"
    },
    "tags": []
   },
   "source": [
    "# Analysis with Linear Regression \n",
    "## Dataset : flavors about flavor name and type \n",
    "\n"
   ]
  },
  {
   "cell_type": "code",
   "execution_count": 1,
   "id": "60996cc6",
   "metadata": {
    "execution": {
     "iopub.execute_input": "2022-04-24T03:44:04.297774Z",
     "iopub.status.busy": "2022-04-24T03:44:04.297254Z",
     "iopub.status.idle": "2022-04-24T03:44:05.505892Z",
     "shell.execute_reply": "2022-04-24T03:44:05.505244Z"
    },
    "papermill": {
     "duration": 1.225276,
     "end_time": "2022-04-24T03:44:05.508268",
     "exception": false,
     "start_time": "2022-04-24T03:44:04.282992",
     "status": "completed"
    },
    "tags": []
   },
   "outputs": [],
   "source": [
    "import pandas as pd\n",
    "import matplotlib.pyplot as plt\n",
    "from sklearn.linear_model import LinearRegression\n",
    "from sklearn.model_selection import train_test_split"
   ]
  },
  {
   "cell_type": "markdown",
   "id": "28b3da38",
   "metadata": {
    "papermill": {
     "duration": 0.012597,
     "end_time": "2022-04-24T03:44:05.534181",
     "exception": false,
     "start_time": "2022-04-24T03:44:05.521584",
     "status": "completed"
    },
    "tags": []
   },
   "source": [
    "## Load the data you receive into a Pandas DataFrame.\n"
   ]
  },
  {
   "cell_type": "code",
   "execution_count": 2,
   "id": "c5c544fc",
   "metadata": {
    "execution": {
     "iopub.execute_input": "2022-04-24T03:44:05.561939Z",
     "iopub.status.busy": "2022-04-24T03:44:05.561358Z",
     "iopub.status.idle": "2022-04-24T03:44:05.622129Z",
     "shell.execute_reply": "2022-04-24T03:44:05.621311Z"
    },
    "papermill": {
     "duration": 0.077438,
     "end_time": "2022-04-24T03:44:05.624713",
     "exception": false,
     "start_time": "2022-04-24T03:44:05.547275",
     "status": "completed"
    },
    "tags": []
   },
   "outputs": [
    {
     "data": {
      "text/html": [
       "<div>\n",
       "<style scoped>\n",
       "    .dataframe tbody tr th:only-of-type {\n",
       "        vertical-align: middle;\n",
       "    }\n",
       "\n",
       "    .dataframe tbody tr th {\n",
       "        vertical-align: top;\n",
       "    }\n",
       "\n",
       "    .dataframe thead th {\n",
       "        text-align: right;\n",
       "    }\n",
       "</style>\n",
       "<table border=\"1\" class=\"dataframe\">\n",
       "  <thead>\n",
       "    <tr style=\"text-align: right;\">\n",
       "      <th></th>\n",
       "      <th>Department</th>\n",
       "      <th>Department-Division</th>\n",
       "      <th>PCN</th>\n",
       "      <th>Position Title</th>\n",
       "      <th>FLSA Status</th>\n",
       "      <th>Initial Hire Date</th>\n",
       "      <th>Date in Title</th>\n",
       "      <th>Salary</th>\n",
       "    </tr>\n",
       "  </thead>\n",
       "  <tbody>\n",
       "    <tr>\n",
       "      <th>0</th>\n",
       "      <td>AGR</td>\n",
       "      <td>AGR 001 Directors Office</td>\n",
       "      <td>B.001326.1</td>\n",
       "      <td>Administrative Specialist II</td>\n",
       "      <td>Non Exempt</td>\n",
       "      <td>10-Sep-1984</td>\n",
       "      <td>01-Mar-2018</td>\n",
       "      <td>59,947.94</td>\n",
       "    </tr>\n",
       "    <tr>\n",
       "      <th>1</th>\n",
       "      <td>AGR</td>\n",
       "      <td>AGR 001 Directors Office</td>\n",
       "      <td>B.003590</td>\n",
       "      <td>Rural Community Coordinator</td>\n",
       "      <td>Exempt</td>\n",
       "      <td>16-Aug-2003</td>\n",
       "      <td>07-Dec-2016</td>\n",
       "      <td>85,765.16</td>\n",
       "    </tr>\n",
       "    <tr>\n",
       "      <th>2</th>\n",
       "      <td>AGR</td>\n",
       "      <td>AGR 001 Directors Office</td>\n",
       "      <td>B.004807</td>\n",
       "      <td>Director of Agriculture</td>\n",
       "      <td>Exempt</td>\n",
       "      <td>01-Oct-2008</td>\n",
       "      <td>01-Oct-2008</td>\n",
       "      <td>137,517.90</td>\n",
       "    </tr>\n",
       "    <tr>\n",
       "      <th>3</th>\n",
       "      <td>AGR</td>\n",
       "      <td>AGR 010 Cooperative Extension Program</td>\n",
       "      <td>B.001801.1</td>\n",
       "      <td>Administrative Assistant</td>\n",
       "      <td>Non Exempt</td>\n",
       "      <td>01-Feb-2011</td>\n",
       "      <td>14-Mar-2019</td>\n",
       "      <td>38,745.46</td>\n",
       "    </tr>\n",
       "    <tr>\n",
       "      <th>4</th>\n",
       "      <td>AGR</td>\n",
       "      <td>AGR 010 Cooperative Extension Program</td>\n",
       "      <td>B.002434.1</td>\n",
       "      <td>Administrative Assistant</td>\n",
       "      <td>Non Exempt</td>\n",
       "      <td>16-Aug-1993</td>\n",
       "      <td>16-May-1999</td>\n",
       "      <td>51,521.60</td>\n",
       "    </tr>\n",
       "  </tbody>\n",
       "</table>\n",
       "</div>"
      ],
      "text/plain": [
       "  Department                    Department-Division              PCN  \\\n",
       "0        AGR               AGR 001 Directors Office  B.001326.1        \n",
       "1        AGR               AGR 001 Directors Office         B.003590   \n",
       "2        AGR               AGR 001 Directors Office         B.004807   \n",
       "3        AGR  AGR 010 Cooperative Extension Program  B.001801.1        \n",
       "4        AGR  AGR 010 Cooperative Extension Program  B.002434.1        \n",
       "\n",
       "                 Position Title FLSA Status Initial Hire Date Date in Title  \\\n",
       "0  Administrative Specialist II  Non Exempt       10-Sep-1984   01-Mar-2018   \n",
       "1   Rural Community Coordinator      Exempt       16-Aug-2003   07-Dec-2016   \n",
       "2       Director of Agriculture      Exempt       01-Oct-2008   01-Oct-2008   \n",
       "3      Administrative Assistant  Non Exempt       01-Feb-2011   14-Mar-2019   \n",
       "4      Administrative Assistant  Non Exempt       16-Aug-1993   16-May-1999   \n",
       "\n",
       "       Salary  \n",
       "0   59,947.94  \n",
       "1   85,765.16  \n",
       "2  137,517.90  \n",
       "3   38,745.46  \n",
       "4   51,521.60  "
      ]
     },
     "execution_count": 2,
     "metadata": {},
     "output_type": "execute_result"
    }
   ],
   "source": [
    "data= pd.read_csv(\"../input/salariescsv/Salaries.csv\")\n",
    "data.head(5)"
   ]
  },
  {
   "cell_type": "markdown",
   "id": "2e98b264",
   "metadata": {
    "papermill": {
     "duration": 0.013471,
     "end_time": "2022-04-24T03:44:05.652148",
     "exception": false,
     "start_time": "2022-04-24T03:44:05.638677",
     "status": "completed"
    },
    "tags": []
   },
   "source": [
    "## Show the description and the info of the data set.\n"
   ]
  },
  {
   "cell_type": "code",
   "execution_count": 3,
   "id": "a64ee274",
   "metadata": {
    "execution": {
     "iopub.execute_input": "2022-04-24T03:44:05.681669Z",
     "iopub.status.busy": "2022-04-24T03:44:05.681089Z",
     "iopub.status.idle": "2022-04-24T03:44:05.731991Z",
     "shell.execute_reply": "2022-04-24T03:44:05.731106Z"
    },
    "papermill": {
     "duration": 0.067897,
     "end_time": "2022-04-24T03:44:05.734185",
     "exception": false,
     "start_time": "2022-04-24T03:44:05.666288",
     "status": "completed"
    },
    "tags": []
   },
   "outputs": [
    {
     "data": {
      "text/html": [
       "<div>\n",
       "<style scoped>\n",
       "    .dataframe tbody tr th:only-of-type {\n",
       "        vertical-align: middle;\n",
       "    }\n",
       "\n",
       "    .dataframe tbody tr th {\n",
       "        vertical-align: top;\n",
       "    }\n",
       "\n",
       "    .dataframe thead th {\n",
       "        text-align: right;\n",
       "    }\n",
       "</style>\n",
       "<table border=\"1\" class=\"dataframe\">\n",
       "  <thead>\n",
       "    <tr style=\"text-align: right;\">\n",
       "      <th></th>\n",
       "      <th>Department</th>\n",
       "      <th>Department-Division</th>\n",
       "      <th>PCN</th>\n",
       "      <th>Position Title</th>\n",
       "      <th>FLSA Status</th>\n",
       "      <th>Initial Hire Date</th>\n",
       "      <th>Date in Title</th>\n",
       "      <th>Salary</th>\n",
       "    </tr>\n",
       "  </thead>\n",
       "  <tbody>\n",
       "    <tr>\n",
       "      <th>count</th>\n",
       "      <td>6954</td>\n",
       "      <td>6954</td>\n",
       "      <td>6954</td>\n",
       "      <td>6954</td>\n",
       "      <td>6954</td>\n",
       "      <td>6954</td>\n",
       "      <td>6053</td>\n",
       "      <td>6946</td>\n",
       "    </tr>\n",
       "    <tr>\n",
       "      <th>unique</th>\n",
       "      <td>39</td>\n",
       "      <td>283</td>\n",
       "      <td>6121</td>\n",
       "      <td>662</td>\n",
       "      <td>3</td>\n",
       "      <td>1709</td>\n",
       "      <td>807</td>\n",
       "      <td>2881</td>\n",
       "    </tr>\n",
       "    <tr>\n",
       "      <th>top</th>\n",
       "      <td>PAR</td>\n",
       "      <td>POL 020 Operations Division</td>\n",
       "      <td>N.030642</td>\n",
       "      <td>Master Police Officer</td>\n",
       "      <td>Non Exempt</td>\n",
       "      <td>27-May-2021</td>\n",
       "      <td>15-Jul-2021</td>\n",
       "      <td>12.80</td>\n",
       "    </tr>\n",
       "    <tr>\n",
       "      <th>freq</th>\n",
       "      <td>1141</td>\n",
       "      <td>581</td>\n",
       "      <td>95</td>\n",
       "      <td>316</td>\n",
       "      <td>5742</td>\n",
       "      <td>76</td>\n",
       "      <td>94</td>\n",
       "      <td>134</td>\n",
       "    </tr>\n",
       "  </tbody>\n",
       "</table>\n",
       "</div>"
      ],
      "text/plain": [
       "       Department          Department-Division       PCN  \\\n",
       "count        6954                         6954      6954   \n",
       "unique         39                          283      6121   \n",
       "top           PAR  POL 020 Operations Division  N.030642   \n",
       "freq         1141                          581        95   \n",
       "\n",
       "               Position Title FLSA Status Initial Hire Date Date in Title  \\\n",
       "count                    6954        6954              6954          6053   \n",
       "unique                    662           3              1709           807   \n",
       "top     Master Police Officer  Non Exempt       27-May-2021   15-Jul-2021   \n",
       "freq                      316        5742                76            94   \n",
       "\n",
       "       Salary  \n",
       "count    6946  \n",
       "unique   2881  \n",
       "top     12.80  \n",
       "freq      134  "
      ]
     },
     "execution_count": 3,
     "metadata": {},
     "output_type": "execute_result"
    }
   ],
   "source": [
    "data.describe()\n"
   ]
  },
  {
   "cell_type": "code",
   "execution_count": 4,
   "id": "18ca1ef7",
   "metadata": {
    "execution": {
     "iopub.execute_input": "2022-04-24T03:44:05.768326Z",
     "iopub.status.busy": "2022-04-24T03:44:05.767776Z",
     "iopub.status.idle": "2022-04-24T03:44:05.789344Z",
     "shell.execute_reply": "2022-04-24T03:44:05.788328Z"
    },
    "papermill": {
     "duration": 0.043398,
     "end_time": "2022-04-24T03:44:05.791812",
     "exception": false,
     "start_time": "2022-04-24T03:44:05.748414",
     "status": "completed"
    },
    "tags": []
   },
   "outputs": [
    {
     "name": "stdout",
     "output_type": "stream",
     "text": [
      "<class 'pandas.core.frame.DataFrame'>\n",
      "RangeIndex: 6954 entries, 0 to 6953\n",
      "Data columns (total 8 columns):\n",
      " #   Column               Non-Null Count  Dtype \n",
      "---  ------               --------------  ----- \n",
      " 0   Department           6954 non-null   object\n",
      " 1   Department-Division  6954 non-null   object\n",
      " 2   PCN                  6954 non-null   object\n",
      " 3   Position Title       6954 non-null   object\n",
      " 4   FLSA Status          6954 non-null   object\n",
      " 5   Initial Hire Date    6954 non-null   object\n",
      " 6   Date in Title        6053 non-null   object\n",
      " 7   Salary               6946 non-null   object\n",
      "dtypes: object(8)\n",
      "memory usage: 434.8+ KB\n"
     ]
    }
   ],
   "source": [
    "\n",
    "data.info()\n"
   ]
  },
  {
   "cell_type": "markdown",
   "id": "76628c05",
   "metadata": {
    "papermill": {
     "duration": 0.014763,
     "end_time": "2022-04-24T03:44:05.822553",
     "exception": false,
     "start_time": "2022-04-24T03:44:05.807790",
     "status": "completed"
    },
    "tags": []
   },
   "source": [
    "## Using a regression model, split your data into train and test data."
   ]
  },
  {
   "cell_type": "code",
   "execution_count": 5,
   "id": "89de7d78",
   "metadata": {
    "execution": {
     "iopub.execute_input": "2022-04-24T03:44:05.853397Z",
     "iopub.status.busy": "2022-04-24T03:44:05.852834Z",
     "iopub.status.idle": "2022-04-24T03:44:05.857108Z",
     "shell.execute_reply": "2022-04-24T03:44:05.856527Z"
    },
    "papermill": {
     "duration": 0.021887,
     "end_time": "2022-04-24T03:44:05.858963",
     "exception": false,
     "start_time": "2022-04-24T03:44:05.837076",
     "status": "completed"
    },
    "tags": []
   },
   "outputs": [],
   "source": [
    "x = data[\"Date in Title\"].values\n",
    "y = data[\"Salary\"].values"
   ]
  },
  {
   "cell_type": "code",
   "execution_count": null,
   "id": "a077d461",
   "metadata": {
    "papermill": {
     "duration": 0.013998,
     "end_time": "2022-04-24T03:44:05.887271",
     "exception": false,
     "start_time": "2022-04-24T03:44:05.873273",
     "status": "completed"
    },
    "tags": []
   },
   "outputs": [],
   "source": []
  },
  {
   "cell_type": "code",
   "execution_count": 6,
   "id": "c4a163b7",
   "metadata": {
    "execution": {
     "iopub.execute_input": "2022-04-24T03:44:05.918835Z",
     "iopub.status.busy": "2022-04-24T03:44:05.918256Z",
     "iopub.status.idle": "2022-04-24T03:44:05.924074Z",
     "shell.execute_reply": "2022-04-24T03:44:05.923442Z"
    },
    "papermill": {
     "duration": 0.024219,
     "end_time": "2022-04-24T03:44:05.925917",
     "exception": false,
     "start_time": "2022-04-24T03:44:05.901698",
     "status": "completed"
    },
    "tags": []
   },
   "outputs": [
    {
     "data": {
      "text/plain": [
       "array(['59,947.94', '85,765.16', '137,517.90', ..., '99,791.64',\n",
       "       '52,972.14', '58,292.00'], dtype=object)"
      ]
     },
     "execution_count": 6,
     "metadata": {},
     "output_type": "execute_result"
    }
   ],
   "source": [
    "y"
   ]
  },
  {
   "cell_type": "code",
   "execution_count": 7,
   "id": "f93460c7",
   "metadata": {
    "execution": {
     "iopub.execute_input": "2022-04-24T03:44:05.957165Z",
     "iopub.status.busy": "2022-04-24T03:44:05.956638Z",
     "iopub.status.idle": "2022-04-24T03:44:05.962867Z",
     "shell.execute_reply": "2022-04-24T03:44:05.962033Z"
    },
    "papermill": {
     "duration": 0.024088,
     "end_time": "2022-04-24T03:44:05.964768",
     "exception": false,
     "start_time": "2022-04-24T03:44:05.940680",
     "status": "completed"
    },
    "tags": []
   },
   "outputs": [
    {
     "data": {
      "text/plain": [
       "array([['01-Mar-2018'],\n",
       "       ['07-Dec-2016'],\n",
       "       ['01-Oct-2008'],\n",
       "       ...,\n",
       "       ['01-Feb-2008'],\n",
       "       ['16-Jul-2010'],\n",
       "       ['04-Jul-2019']], dtype=object)"
      ]
     },
     "execution_count": 7,
     "metadata": {},
     "output_type": "execute_result"
    }
   ],
   "source": [
    "x=x.reshape(-1,1)\n",
    "x"
   ]
  },
  {
   "cell_type": "markdown",
   "id": "584034d0",
   "metadata": {
    "papermill": {
     "duration": 0.014942,
     "end_time": "2022-04-24T03:44:05.994887",
     "exception": false,
     "start_time": "2022-04-24T03:44:05.979945",
     "status": "completed"
    },
    "tags": []
   },
   "source": [
    "## Fit your training split to the regression model.\n"
   ]
  },
  {
   "cell_type": "code",
   "execution_count": 8,
   "id": "73c76c58",
   "metadata": {
    "execution": {
     "iopub.execute_input": "2022-04-24T03:44:06.027100Z",
     "iopub.status.busy": "2022-04-24T03:44:06.026696Z",
     "iopub.status.idle": "2022-04-24T03:44:06.035498Z",
     "shell.execute_reply": "2022-04-24T03:44:06.034315Z"
    },
    "papermill": {
     "duration": 0.027884,
     "end_time": "2022-04-24T03:44:06.038058",
     "exception": false,
     "start_time": "2022-04-24T03:44:06.010174",
     "status": "completed"
    },
    "tags": []
   },
   "outputs": [
    {
     "name": "stdout",
     "output_type": "stream",
     "text": [
      "X_train shape (4172, 1)\n",
      "y_train shape (4172,)\n",
      "X_test shape (2782, 1)\n",
      "y_test shape (2782,)\n",
      "['12.80' '32,801.08' '85,612.80' ... '46,805.20' '52,530.14' '13.33']\n"
     ]
    }
   ],
   "source": [
    "x_train, x_test, y_train, y_test = train_test_split(x,y,train_size=0.6,test_size=0.4,random_state=100)\n",
    "print(f\"X_train shape {x_train.shape}\")\n",
    "print(f\"y_train shape {y_train.shape}\")\n",
    "print(f\"X_test shape {x_test.shape}\")\n",
    "print(f\"y_test shape {y_test.shape}\")\n",
    "print(y_test)"
   ]
  }
 ],
 "metadata": {
  "kernelspec": {
   "display_name": "Python 3",
   "language": "python",
   "name": "python3"
  },
  "language_info": {
   "codemirror_mode": {
    "name": "ipython",
    "version": 3
   },
   "file_extension": ".py",
   "mimetype": "text/x-python",
   "name": "python",
   "nbconvert_exporter": "python",
   "pygments_lexer": "ipython3",
   "version": "3.7.12"
  },
  "papermill": {
   "default_parameters": {},
   "duration": 12.428977,
   "end_time": "2022-04-24T03:44:06.774313",
   "environment_variables": {},
   "exception": null,
   "input_path": "__notebook__.ipynb",
   "output_path": "__notebook__.ipynb",
   "parameters": {},
   "start_time": "2022-04-24T03:43:54.345336",
   "version": "2.3.4"
  }
 },
 "nbformat": 4,
 "nbformat_minor": 5
}
